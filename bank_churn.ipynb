{
  "nbformat": 4,
  "nbformat_minor": 0,
  "metadata": {
    "colab": {
      "name": "*PDS-CIA_3-final.ipynb",
      "provenance": [],
      "collapsed_sections": [],
      "include_colab_link": true
    },
    "kernelspec": {
      "display_name": "Python 3",
      "language": "python",
      "name": "python3"
    },
    "language_info": {
      "codemirror_mode": {
        "name": "ipython",
        "version": 3
      },
      "file_extension": ".py",
      "mimetype": "text/x-python",
      "name": "python",
      "nbconvert_exporter": "python",
      "pygments_lexer": "ipython3",
      "version": "3.8.3"
    }
  },
  "cells": [
    {
      "cell_type": "markdown",
      "metadata": {
        "id": "view-in-github",
        "colab_type": "text"
      },
      "source": [
        "<a href=\"https://colab.research.google.com/github/mukul98m/bank_churn/blob/master/bank_churn.ipynb\" target=\"_parent\"><img src=\"https://colab.research.google.com/assets/colab-badge.svg\" alt=\"Open In Colab\"/></a>"
      ]
    },
    {
      "cell_type": "code",
      "metadata": {
        "colab": {
          "base_uri": "https://localhost:8080/"
        },
        "id": "DQvH5nCizBCt",
        "outputId": "f0980871-bbaf-4b54-f1e9-5fd6add60666"
      },
      "source": [
        "from google.colab import drive\n",
        "drive.mount('/content/drive')"
      ],
      "execution_count": null,
      "outputs": [
        {
          "output_type": "stream",
          "text": [
            "Drive already mounted at /content/drive; to attempt to forcibly remount, call drive.mount(\"/content/drive\", force_remount=True).\n"
          ],
          "name": "stdout"
        }
      ]
    },
    {
      "cell_type": "code",
      "metadata": {
        "colab": {
          "base_uri": "https://localhost:8080/"
        },
        "id": "Fx4ivatEVzh_",
        "outputId": "fb4f3899-8f25-441b-ed49-86cd38d9b6e6"
      },
      "source": [
        "#Importing libraries\n",
        "\n",
        "import pandas as pd \n",
        "import numpy as np\n",
        "import matplotlib.pyplot as plt\n",
        "import seaborn as sns\n",
        "from collections import Counter\n",
        "from sklearn.neighbors import KNeighborsClassifier\n",
        "from sklearn import metrics\n",
        "import os     \n",
        "print(os.getcwd())\n",
        "import warnings\n",
        "warnings.filterwarnings('ignore')"
      ],
      "execution_count": null,
      "outputs": [
        {
          "output_type": "stream",
          "text": [
            "/content\n"
          ],
          "name": "stdout"
        }
      ]
    },
    {
      "cell_type": "code",
      "metadata": {
        "colab": {
          "base_uri": "https://localhost:8080/",
          "height": 195
        },
        "id": "Lj7UyLfra45C",
        "outputId": "91cdd71e-745a-4316-f7a4-4c5bcf7c29ef"
      },
      "source": [
        "# Uploading dataset\n",
        "\n",
        "data= pd.read_excel('/content/drive/MyDrive/PDS_CIA/bank_churn-1.xlsx')\n",
        "data.head()"
      ],
      "execution_count": null,
      "outputs": [
        {
          "output_type": "execute_result",
          "data": {
            "text/html": [
              "<div>\n",
              "<style scoped>\n",
              "    .dataframe tbody tr th:only-of-type {\n",
              "        vertical-align: middle;\n",
              "    }\n",
              "\n",
              "    .dataframe tbody tr th {\n",
              "        vertical-align: top;\n",
              "    }\n",
              "\n",
              "    .dataframe thead th {\n",
              "        text-align: right;\n",
              "    }\n",
              "</style>\n",
              "<table border=\"1\" class=\"dataframe\">\n",
              "  <thead>\n",
              "    <tr style=\"text-align: right;\">\n",
              "      <th></th>\n",
              "      <th>RowNumber</th>\n",
              "      <th>CustomerId</th>\n",
              "      <th>Surname</th>\n",
              "      <th>CreditScore</th>\n",
              "      <th>Geography</th>\n",
              "      <th>Gender</th>\n",
              "      <th>Age</th>\n",
              "      <th>Tenure</th>\n",
              "      <th>Balance</th>\n",
              "      <th>NumOfProducts</th>\n",
              "      <th>HasCrCard</th>\n",
              "      <th>IsActiveMember</th>\n",
              "      <th>EstimatedSalary</th>\n",
              "      <th>Exited</th>\n",
              "    </tr>\n",
              "  </thead>\n",
              "  <tbody>\n",
              "    <tr>\n",
              "      <th>0</th>\n",
              "      <td>1</td>\n",
              "      <td>15634602</td>\n",
              "      <td>Hargrave</td>\n",
              "      <td>619.0</td>\n",
              "      <td>France</td>\n",
              "      <td>Female</td>\n",
              "      <td>42</td>\n",
              "      <td>2.0</td>\n",
              "      <td>NaN</td>\n",
              "      <td>1</td>\n",
              "      <td>1</td>\n",
              "      <td>1</td>\n",
              "      <td>NaN</td>\n",
              "      <td>1</td>\n",
              "    </tr>\n",
              "    <tr>\n",
              "      <th>1</th>\n",
              "      <td>2</td>\n",
              "      <td>15647311</td>\n",
              "      <td>Hill</td>\n",
              "      <td>608.0</td>\n",
              "      <td>Spain</td>\n",
              "      <td>Female</td>\n",
              "      <td>41</td>\n",
              "      <td>1.0</td>\n",
              "      <td>83807.86</td>\n",
              "      <td>1</td>\n",
              "      <td>0</td>\n",
              "      <td>1</td>\n",
              "      <td>112542.58</td>\n",
              "      <td>0</td>\n",
              "    </tr>\n",
              "    <tr>\n",
              "      <th>2</th>\n",
              "      <td>3</td>\n",
              "      <td>15619304</td>\n",
              "      <td>Onio</td>\n",
              "      <td>502.0</td>\n",
              "      <td>France</td>\n",
              "      <td>NaN</td>\n",
              "      <td>42</td>\n",
              "      <td>8.0</td>\n",
              "      <td>159660.80</td>\n",
              "      <td>3</td>\n",
              "      <td>1</td>\n",
              "      <td>0</td>\n",
              "      <td>113931.57</td>\n",
              "      <td>1</td>\n",
              "    </tr>\n",
              "    <tr>\n",
              "      <th>3</th>\n",
              "      <td>4</td>\n",
              "      <td>15701354</td>\n",
              "      <td>Boni</td>\n",
              "      <td>699.0</td>\n",
              "      <td>France</td>\n",
              "      <td>Female</td>\n",
              "      <td>39</td>\n",
              "      <td>1.0</td>\n",
              "      <td>0.00</td>\n",
              "      <td>2</td>\n",
              "      <td>0</td>\n",
              "      <td>0</td>\n",
              "      <td>93826.63</td>\n",
              "      <td>0</td>\n",
              "    </tr>\n",
              "    <tr>\n",
              "      <th>4</th>\n",
              "      <td>5</td>\n",
              "      <td>15737888</td>\n",
              "      <td>Mitchell</td>\n",
              "      <td>850.0</td>\n",
              "      <td>Spain</td>\n",
              "      <td>Female</td>\n",
              "      <td>43</td>\n",
              "      <td>2.0</td>\n",
              "      <td>125510.82</td>\n",
              "      <td>1</td>\n",
              "      <td>1</td>\n",
              "      <td>1</td>\n",
              "      <td>79084.10</td>\n",
              "      <td>0</td>\n",
              "    </tr>\n",
              "  </tbody>\n",
              "</table>\n",
              "</div>"
            ],
            "text/plain": [
              "   RowNumber  CustomerId   Surname  ...  IsActiveMember EstimatedSalary Exited\n",
              "0          1    15634602  Hargrave  ...               1             NaN      1\n",
              "1          2    15647311      Hill  ...               1       112542.58      0\n",
              "2          3    15619304      Onio  ...               0       113931.57      1\n",
              "3          4    15701354      Boni  ...               0        93826.63      0\n",
              "4          5    15737888  Mitchell  ...               1        79084.10      0\n",
              "\n",
              "[5 rows x 14 columns]"
            ]
          },
          "metadata": {
            "tags": []
          },
          "execution_count": 2
        }
      ]
    },
    {
      "cell_type": "markdown",
      "metadata": {
        "id": "hNIc8et2yqoN"
      },
      "source": [
        "# Glimpse of dataset"
      ]
    },
    {
      "cell_type": "code",
      "metadata": {
        "colab": {
          "base_uri": "https://localhost:8080/"
        },
        "id": "vDUqpx_HyqoO",
        "outputId": "3885af38-a4ce-4661-e60e-ebc0ae1825d4"
      },
      "source": [
        "# Shape of dataset\n",
        "data.shape"
      ],
      "execution_count": null,
      "outputs": [
        {
          "output_type": "execute_result",
          "data": {
            "text/plain": [
              "(10000, 14)"
            ]
          },
          "metadata": {
            "tags": []
          },
          "execution_count": 3
        }
      ]
    },
    {
      "cell_type": "code",
      "metadata": {
        "colab": {
          "base_uri": "https://localhost:8080/"
        },
        "id": "KIz9vQBsyqoO",
        "outputId": "771b6b13-17e0-46f7-d08e-5fa171023c3a"
      },
      "source": [
        "# columns of dataset\n",
        "list(data.columns)"
      ],
      "execution_count": null,
      "outputs": [
        {
          "output_type": "execute_result",
          "data": {
            "text/plain": [
              "['RowNumber',\n",
              " 'CustomerId',\n",
              " 'Surname',\n",
              " 'CreditScore',\n",
              " 'Geography',\n",
              " 'Gender',\n",
              " 'Age',\n",
              " 'Tenure',\n",
              " 'Balance',\n",
              " 'NumOfProducts',\n",
              " 'HasCrCard',\n",
              " 'IsActiveMember',\n",
              " 'EstimatedSalary',\n",
              " 'Exited']"
            ]
          },
          "metadata": {
            "tags": []
          },
          "execution_count": 4
        }
      ]
    },
    {
      "cell_type": "code",
      "metadata": {
        "id": "qvENGIkL0hq_"
      },
      "source": [
        ""
      ],
      "execution_count": null,
      "outputs": []
    },
    {
      "cell_type": "code",
      "metadata": {
        "colab": {
          "base_uri": "https://localhost:8080/"
        },
        "id": "vxUNZit4yqoQ",
        "outputId": "ee199c9d-7c21-4125-ff0e-e0036f6373a3"
      },
      "source": [
        "#information of dataset\n",
        "data.info()"
      ],
      "execution_count": null,
      "outputs": [
        {
          "output_type": "stream",
          "text": [
            "<class 'pandas.core.frame.DataFrame'>\n",
            "RangeIndex: 10000 entries, 0 to 9999\n",
            "Data columns (total 14 columns):\n",
            " #   Column           Non-Null Count  Dtype  \n",
            "---  ------           --------------  -----  \n",
            " 0   RowNumber        10000 non-null  int64  \n",
            " 1   CustomerId       10000 non-null  int64  \n",
            " 2   Surname          10000 non-null  object \n",
            " 3   CreditScore      9888 non-null   float64\n",
            " 4   Geography        10000 non-null  object \n",
            " 5   Gender           9999 non-null   object \n",
            " 6   Age              9601 non-null   object \n",
            " 7   Tenure           9999 non-null   float64\n",
            " 8   Balance          9689 non-null   float64\n",
            " 9   NumOfProducts    10000 non-null  int64  \n",
            " 10  HasCrCard        10000 non-null  int64  \n",
            " 11  IsActiveMember   10000 non-null  int64  \n",
            " 12  EstimatedSalary  9538 non-null   float64\n",
            " 13  Exited           10000 non-null  int64  \n",
            "dtypes: float64(4), int64(6), object(4)\n",
            "memory usage: 1.1+ MB\n"
          ],
          "name": "stdout"
        }
      ]
    },
    {
      "cell_type": "code",
      "metadata": {
        "colab": {
          "base_uri": "https://localhost:8080/",
          "height": 284
        },
        "id": "_wUvv_bXyqoR",
        "outputId": "092b3147-34c8-4dba-fa3a-8be3f9605b84"
      },
      "source": [
        "# Describing dataset\n",
        "data.describe()"
      ],
      "execution_count": null,
      "outputs": [
        {
          "output_type": "execute_result",
          "data": {
            "text/html": [
              "<div>\n",
              "<style scoped>\n",
              "    .dataframe tbody tr th:only-of-type {\n",
              "        vertical-align: middle;\n",
              "    }\n",
              "\n",
              "    .dataframe tbody tr th {\n",
              "        vertical-align: top;\n",
              "    }\n",
              "\n",
              "    .dataframe thead th {\n",
              "        text-align: right;\n",
              "    }\n",
              "</style>\n",
              "<table border=\"1\" class=\"dataframe\">\n",
              "  <thead>\n",
              "    <tr style=\"text-align: right;\">\n",
              "      <th></th>\n",
              "      <th>RowNumber</th>\n",
              "      <th>CustomerId</th>\n",
              "      <th>CreditScore</th>\n",
              "      <th>Tenure</th>\n",
              "      <th>Balance</th>\n",
              "      <th>NumOfProducts</th>\n",
              "      <th>HasCrCard</th>\n",
              "      <th>IsActiveMember</th>\n",
              "      <th>EstimatedSalary</th>\n",
              "      <th>Exited</th>\n",
              "    </tr>\n",
              "  </thead>\n",
              "  <tbody>\n",
              "    <tr>\n",
              "      <th>count</th>\n",
              "      <td>10000.00000</td>\n",
              "      <td>1.000000e+04</td>\n",
              "      <td>9888.000000</td>\n",
              "      <td>9999.000000</td>\n",
              "      <td>9689.000000</td>\n",
              "      <td>10000.000000</td>\n",
              "      <td>10000.00000</td>\n",
              "      <td>10000.000000</td>\n",
              "      <td>9538.000000</td>\n",
              "      <td>10000.000000</td>\n",
              "    </tr>\n",
              "    <tr>\n",
              "      <th>mean</th>\n",
              "      <td>5000.50000</td>\n",
              "      <td>1.569094e+07</td>\n",
              "      <td>650.498180</td>\n",
              "      <td>5.012501</td>\n",
              "      <td>76394.943067</td>\n",
              "      <td>1.530200</td>\n",
              "      <td>0.70550</td>\n",
              "      <td>0.515100</td>\n",
              "      <td>100032.987436</td>\n",
              "      <td>0.203800</td>\n",
              "    </tr>\n",
              "    <tr>\n",
              "      <th>std</th>\n",
              "      <td>2886.89568</td>\n",
              "      <td>7.193619e+04</td>\n",
              "      <td>96.743002</td>\n",
              "      <td>2.892165</td>\n",
              "      <td>62416.822805</td>\n",
              "      <td>0.581654</td>\n",
              "      <td>0.45584</td>\n",
              "      <td>0.499797</td>\n",
              "      <td>57413.301547</td>\n",
              "      <td>0.402842</td>\n",
              "    </tr>\n",
              "    <tr>\n",
              "      <th>min</th>\n",
              "      <td>1.00000</td>\n",
              "      <td>1.556570e+07</td>\n",
              "      <td>350.000000</td>\n",
              "      <td>0.000000</td>\n",
              "      <td>0.000000</td>\n",
              "      <td>1.000000</td>\n",
              "      <td>0.00000</td>\n",
              "      <td>0.000000</td>\n",
              "      <td>11.580000</td>\n",
              "      <td>0.000000</td>\n",
              "    </tr>\n",
              "    <tr>\n",
              "      <th>25%</th>\n",
              "      <td>2500.75000</td>\n",
              "      <td>1.562853e+07</td>\n",
              "      <td>583.750000</td>\n",
              "      <td>3.000000</td>\n",
              "      <td>0.000000</td>\n",
              "      <td>1.000000</td>\n",
              "      <td>0.00000</td>\n",
              "      <td>0.000000</td>\n",
              "      <td>51114.120000</td>\n",
              "      <td>0.000000</td>\n",
              "    </tr>\n",
              "    <tr>\n",
              "      <th>50%</th>\n",
              "      <td>5000.50000</td>\n",
              "      <td>1.569074e+07</td>\n",
              "      <td>652.000000</td>\n",
              "      <td>5.000000</td>\n",
              "      <td>97072.420000</td>\n",
              "      <td>1.000000</td>\n",
              "      <td>1.00000</td>\n",
              "      <td>1.000000</td>\n",
              "      <td>100129.330000</td>\n",
              "      <td>0.000000</td>\n",
              "    </tr>\n",
              "    <tr>\n",
              "      <th>75%</th>\n",
              "      <td>7500.25000</td>\n",
              "      <td>1.575323e+07</td>\n",
              "      <td>718.000000</td>\n",
              "      <td>7.000000</td>\n",
              "      <td>127609.590000</td>\n",
              "      <td>2.000000</td>\n",
              "      <td>1.00000</td>\n",
              "      <td>1.000000</td>\n",
              "      <td>149193.682500</td>\n",
              "      <td>0.000000</td>\n",
              "    </tr>\n",
              "    <tr>\n",
              "      <th>max</th>\n",
              "      <td>10000.00000</td>\n",
              "      <td>1.581569e+07</td>\n",
              "      <td>850.000000</td>\n",
              "      <td>10.000000</td>\n",
              "      <td>250898.090000</td>\n",
              "      <td>4.000000</td>\n",
              "      <td>1.00000</td>\n",
              "      <td>1.000000</td>\n",
              "      <td>199992.480000</td>\n",
              "      <td>1.000000</td>\n",
              "    </tr>\n",
              "  </tbody>\n",
              "</table>\n",
              "</div>"
            ],
            "text/plain": [
              "         RowNumber    CustomerId  ...  EstimatedSalary        Exited\n",
              "count  10000.00000  1.000000e+04  ...      9538.000000  10000.000000\n",
              "mean    5000.50000  1.569094e+07  ...    100032.987436      0.203800\n",
              "std     2886.89568  7.193619e+04  ...     57413.301547      0.402842\n",
              "min        1.00000  1.556570e+07  ...        11.580000      0.000000\n",
              "25%     2500.75000  1.562853e+07  ...     51114.120000      0.000000\n",
              "50%     5000.50000  1.569074e+07  ...    100129.330000      0.000000\n",
              "75%     7500.25000  1.575323e+07  ...    149193.682500      0.000000\n",
              "max    10000.00000  1.581569e+07  ...    199992.480000      1.000000\n",
              "\n",
              "[8 rows x 10 columns]"
            ]
          },
          "metadata": {
            "tags": []
          },
          "execution_count": 6
        }
      ]
    },
    {
      "cell_type": "markdown",
      "metadata": {
        "id": "Jjo9aPVYyqoS"
      },
      "source": [
        "# Cleaning the dataset"
      ]
    },
    {
      "cell_type": "code",
      "metadata": {
        "id": "ScxF8uwU4X5e"
      },
      "source": [
        "data['Age'].replace(' ',np.NaN,inplace=True)\n",
        "data['Age'].replace('       ',np.NaN,inplace=True)\n",
        "data['Gender'].replace(' ',np.NaN,inplace=True)\n",
        "data['Gender'].replace('  ',np.NaN,inplace=True)"
      ],
      "execution_count": null,
      "outputs": []
    },
    {
      "cell_type": "code",
      "metadata": {
        "colab": {
          "base_uri": "https://localhost:8080/"
        },
        "id": "ILQf1gI0Ucbw",
        "outputId": "5b91e525-8571-45b9-d2ce-806934e7edce"
      },
      "source": [
        "# missing values\n",
        "data.isnull().sum() "
      ],
      "execution_count": null,
      "outputs": [
        {
          "output_type": "execute_result",
          "data": {
            "text/plain": [
              "RowNumber            0\n",
              "CustomerId           0\n",
              "Surname              0\n",
              "CreditScore        112\n",
              "Geography            0\n",
              "Gender             127\n",
              "Age                406\n",
              "Tenure               1\n",
              "Balance            311\n",
              "NumOfProducts        0\n",
              "HasCrCard            0\n",
              "IsActiveMember       0\n",
              "EstimatedSalary    462\n",
              "Exited               0\n",
              "dtype: int64"
            ]
          },
          "metadata": {
            "tags": []
          },
          "execution_count": 8
        }
      ]
    },
    {
      "cell_type": "code",
      "metadata": {
        "id": "LnOHjXa4yqoT"
      },
      "source": [
        "# missing value treatment\n",
        "\n",
        "#categorical\n",
        "data['Gender'].fillna(data['Gender'].mode()[0],inplace=True)\n",
        "\n",
        "#numerical\n",
        "data['CreditScore'].fillna(data['CreditScore'].mean(),inplace=True)\n",
        "data['Balance'].fillna(data['Balance'].mean(),inplace=True)\n",
        "data['EstimatedSalary'].fillna(data['EstimatedSalary'].mean(),inplace=True)\n",
        "data['Age'].fillna(data['Age'].mean(),inplace=True)\n",
        "data['Tenure'].fillna(data['Tenure'].mean(),inplace=True)\n"
      ],
      "execution_count": null,
      "outputs": []
    },
    {
      "cell_type": "markdown",
      "metadata": {
        "id": "-xjfAW7Qv-px"
      },
      "source": [
        "Missing values have been replaced with mean and mode. For categorical features, they have been replaced with mode and for numerical features with mean."
      ]
    },
    {
      "cell_type": "code",
      "metadata": {
        "colab": {
          "base_uri": "https://localhost:8080/"
        },
        "id": "hYUndKns7x7d",
        "outputId": "979f531a-bd6c-49fb-b2a5-4e07c229c911"
      },
      "source": [
        "# missing values after treatment\n",
        "data.isnull().sum()"
      ],
      "execution_count": null,
      "outputs": [
        {
          "output_type": "execute_result",
          "data": {
            "text/plain": [
              "RowNumber          0\n",
              "CustomerId         0\n",
              "Surname            0\n",
              "CreditScore        0\n",
              "Geography          0\n",
              "Gender             0\n",
              "Age                0\n",
              "Tenure             0\n",
              "Balance            0\n",
              "NumOfProducts      0\n",
              "HasCrCard          0\n",
              "IsActiveMember     0\n",
              "EstimatedSalary    0\n",
              "Exited             0\n",
              "dtype: int64"
            ]
          },
          "metadata": {
            "tags": []
          },
          "execution_count": 10
        }
      ]
    },
    {
      "cell_type": "code",
      "metadata": {
        "id": "K9OFslnXyqoV"
      },
      "source": [
        ""
      ],
      "execution_count": null,
      "outputs": []
    },
    {
      "cell_type": "code",
      "metadata": {
        "id": "cCPm4Ot_yqoV"
      },
      "source": [
        ""
      ],
      "execution_count": null,
      "outputs": []
    },
    {
      "cell_type": "markdown",
      "metadata": {
        "id": "oIbQpfSwyqoW"
      },
      "source": [
        "# Binning"
      ]
    },
    {
      "cell_type": "code",
      "metadata": {
        "id": "X3NuA-bA1AbZ"
      },
      "source": [
        "# binning for age\n",
        "bins = [0, 30, 45,60,100]\n",
        "labels = ['0-30', '31-45','46-60','60+']\n",
        "data['Age_group'] = pd.cut(data['Age'], bins, labels = labels,include_lowest = True)"
      ],
      "execution_count": null,
      "outputs": []
    },
    {
      "cell_type": "code",
      "metadata": {
        "id": "mcU4n4W3yqoW"
      },
      "source": [
        "# binning for tenure\n",
        "bins = [0, 2, 4,6,8,10]\n",
        "labels = ['0-2', '3-4','5-6','6-8','9-10']\n",
        "data['Tenure_group'] = pd.cut(data['Tenure'], bins, labels = labels,include_lowest = True)"
      ],
      "execution_count": null,
      "outputs": []
    },
    {
      "cell_type": "code",
      "metadata": {
        "id": "clo2P_8OyqoX"
      },
      "source": [
        ""
      ],
      "execution_count": null,
      "outputs": []
    },
    {
      "cell_type": "code",
      "metadata": {
        "id": "0X_kOCTx1F6m"
      },
      "source": [
        ""
      ],
      "execution_count": null,
      "outputs": []
    },
    {
      "cell_type": "code",
      "metadata": {
        "id": "vnkvYWUmyqoX"
      },
      "source": [
        ""
      ],
      "execution_count": null,
      "outputs": []
    },
    {
      "cell_type": "markdown",
      "metadata": {
        "id": "t0kLDcYfyqoX"
      },
      "source": [
        "# Outliers"
      ]
    },
    {
      "cell_type": "code",
      "metadata": {
        "colab": {
          "base_uri": "https://localhost:8080/",
          "height": 500
        },
        "id": "vPI7E9TjmRiZ",
        "outputId": "813fcbfd-ba14-4e9b-d26b-91de9e087e57"
      },
      "source": [
        "#outliers\n",
        "\n",
        "#var=['CreditScore','Age','Balance','EstimatedSalary']\n",
        "\n",
        "var=['Age','CreditScore']\n",
        "\n",
        "data[var].boxplot(figsize=(10,8))"
      ],
      "execution_count": null,
      "outputs": [
        {
          "output_type": "execute_result",
          "data": {
            "text/plain": [
              "<matplotlib.axes._subplots.AxesSubplot at 0x7fdd498ae048>"
            ]
          },
          "metadata": {
            "tags": []
          },
          "execution_count": 14
        },
        {
          "output_type": "display_data",
          "data": {
            "image/png": "[encoded data removed]",
            "text/plain": [
              "<Figure size 720x576 with 1 Axes>"
            ]
          },
          "metadata": {
            "tags": [],
            "needs_background": "light"
          }
        }
      ]
    },
    {
      "cell_type": "code",
      "metadata": {
        "id": "5T670yNf5vg4"
      },
      "source": [
        ""
      ],
      "execution_count": null,
      "outputs": []
    },
    {
      "cell_type": "code",
      "metadata": {
        "colab": {
          "base_uri": "https://localhost:8080/"
        },
        "id": "CEy9gGLYftMU",
        "outputId": "8e71d63a-c380-44c8-e939-504bb80e8f72"
      },
      "source": [
        "for i in var:\n",
        "    q75,q25 = np.percentile(data.loc[:,i],[75,25])\n",
        "    iqr = q75-q25\n",
        "    min = q25 - (iqr * 2)\n",
        "    max = q75 + (iqr * 2)\n",
        "    print('Feature name : ',i)S\n",
        "    print('Minimum value : ',min)\n",
        "    print('Median :',np.median(data[i]))\n",
        "    print('Maximum value : ',max)\n",
        "    print('Outliers in {v}--->{x}'.format(v=i,x=(data.loc[data.loc[:,i] < min,i].count() + data.loc[data.loc[:,i]> max,i].count())))"
      ],
      "execution_count": null,
      "outputs": [
        {
          "output_type": "stream",
          "text": [
            "Feature name :  Age\n",
            "Minimum value :  8.0\n",
            "Median : 38.0\n",
            "Maximum value :  68.0\n",
            "Outliers in Age--->170\n",
            "Feature name :  CreditScore\n",
            "Minimum value :  318.0\n",
            "Median : 651.0\n",
            "Maximum value :  983.0\n",
            "Outliers in CreditScore--->0\n"
          ],
          "name": "stdout"
        }
      ]
    },
    {
      "cell_type": "markdown",
      "metadata": {
        "id": "Q5jVZmTj6EQh"
      },
      "source": [
        "The box plot analysis shows some outliers but manual observation shows that are no outliers. And in banking it's a natural phenomenon to observe some outliers. We term them as business outliers or natural outliers."
      ]
    },
    {
      "cell_type": "code",
      "metadata": {
        "id": "Gq_vyUtJ5we0"
      },
      "source": [
        ""
      ],
      "execution_count": null,
      "outputs": []
    },
    {
      "cell_type": "code",
      "metadata": {
        "id": "NgrTSO04S-3z"
      },
      "source": [
        "# plt.figure(figsize=(10,5))\n",
        "# sns.countplot(x =data['Geography'],hue=data['Exited'])  "
      ],
      "execution_count": null,
      "outputs": []
    },
    {
      "cell_type": "code",
      "metadata": {
        "id": "M5-nmWOho53Z"
      },
      "source": [
        "france=data[data['Geography']=='France']\n",
        "france_chrun=france[data['Exited']==1]\n",
        "spain=data[data['Geography']=='Spain']\n",
        "spain_chrun=spain[data['Exited']==1]\n",
        "germany=data[data['Geography']=='Germany']\n",
        "germany_churn=germany[data['Exited']==1]"
      ],
      "execution_count": null,
      "outputs": []
    },
    {
      "cell_type": "markdown",
      "metadata": {
        "id": "d4fve4P9PI8o"
      },
      "source": [
        "**EDA**"
      ]
    },
    {
      "cell_type": "markdown",
      "metadata": {
        "id": "bZ_umvAkyqoZ"
      },
      "source": [
        "###  Customer from which country have churned the most?"
      ]
    },
    {
      "cell_type": "code",
      "metadata": {
        "id": "601vhdhDrvGE",
        "colab": {
          "base_uri": "https://localhost:8080/",
          "height": 136
        },
        "outputId": "2bef3b9b-bbd2-46ef-9698-fb7ec4bbc2b9"
      },
      "source": [
        " d = {'Geography':['France', 'Spain', 'Germany'], \n",
        "        'Churn %':[len(france_chrun)/len(france), len(spain_chrun)/len(spain), len(germany_churn)/len(germany)]} \n",
        "  \n",
        "# Create DataFrame \n",
        "df = pd.DataFrame(d) \n",
        "  \n",
        "# Print the output. \n",
        "df['Churn %']= df['Churn %']*100\n",
        "df"
      ],
      "execution_count": null,
      "outputs": [
        {
          "output_type": "execute_result",
          "data": {
            "text/html": [
              "<div>\n",
              "<style scoped>\n",
              "    .dataframe tbody tr th:only-of-type {\n",
              "        vertical-align: middle;\n",
              "    }\n",
              "\n",
              "    .dataframe tbody tr th {\n",
              "        vertical-align: top;\n",
              "    }\n",
              "\n",
              "    .dataframe thead th {\n",
              "        text-align: right;\n",
              "    }\n",
              "</style>\n",
              "<table border=\"1\" class=\"dataframe\">\n",
              "  <thead>\n",
              "    <tr style=\"text-align: right;\">\n",
              "      <th></th>\n",
              "      <th>Geography</th>\n",
              "      <th>Churn %</th>\n",
              "    </tr>\n",
              "  </thead>\n",
              "  <tbody>\n",
              "    <tr>\n",
              "      <th>0</th>\n",
              "      <td>France</td>\n",
              "      <td>16.174711</td>\n",
              "    </tr>\n",
              "    <tr>\n",
              "      <th>1</th>\n",
              "      <td>Spain</td>\n",
              "      <td>16.673395</td>\n",
              "    </tr>\n",
              "    <tr>\n",
              "      <th>2</th>\n",
              "      <td>Germany</td>\n",
              "      <td>32.443204</td>\n",
              "    </tr>\n",
              "  </tbody>\n",
              "</table>\n",
              "</div>"
            ],
            "text/plain": [
              "  Geography    Churn %\n",
              "0    France  16.174711\n",
              "1     Spain  16.673395\n",
              "2   Germany  32.443204"
            ]
          },
          "metadata": {
            "tags": []
          },
          "execution_count": 18
        }
      ]
    },
    {
      "cell_type": "code",
      "metadata": {
        "colab": {
          "base_uri": "https://localhost:8080/",
          "height": 295
        },
        "id": "2Ov9THW4rluS",
        "outputId": "c4b61f66-2f3b-44ef-9205-d6ce895a765d"
      },
      "source": [
        "sns.barplot(x =df['Geography'],y=df['Churn %'])\n",
        "plt.title(\"PERCENTAGE OF CHURNERS\")\n",
        "plt.show()"
      ],
      "execution_count": null,
      "outputs": [
        {
          "output_type": "display_data",
          "data": {
            "image/png": "[encoded data removed]",
            "text/plain": [
              "<Figure size 432x288 with 1 Axes>"
            ]
          },
          "metadata": {
            "tags": [],
            "needs_background": "light"
          }
        }
      ]
    },
    {
      "cell_type": "markdown",
      "metadata": {
        "id": "RSZI1HWYyqoa"
      },
      "source": [
        "Customers from Germany have churned the most with 32.44% followed by  Spain and France with 16.67% and 16.17% repectively."
      ]
    },
    {
      "cell_type": "markdown",
      "metadata": {
        "id": "USaSJx7vyqob"
      },
      "source": [
        "### Whether there is any significant relationship between gender and churning?"
      ]
    },
    {
      "cell_type": "code",
      "metadata": {
        "id": "N6JcMiugyqob"
      },
      "source": [
        "a=data[data['Exited']==1]"
      ],
      "execution_count": null,
      "outputs": []
    },
    {
      "cell_type": "code",
      "metadata": {
        "colab": {
          "base_uri": "https://localhost:8080/",
          "height": 264
        },
        "id": "T-G2bpeJ7RgO",
        "outputId": "510c766a-34db-4e54-f425-d12d2cad5dff"
      },
      "source": [
        "labels = [\"Male\",\"Female\"]\n",
        "values = a['Gender'].value_counts().values\n",
        "fig1, ax1 = plt.subplots()\n",
        "ax1.pie(values, labels=labels, autopct='%1.1f%%',shadow=True,startangle=90)\n",
        "plt.title(\"CHURNER RATIO\")\n",
        "plt.show()"
      ],
      "execution_count": null,
      "outputs": [
        {
          "output_type": "display_data",
          "data": {
            "image/png": "[encoded data removed]",
            "text/plain": [
              "<Figure size 432x288 with 1 Axes>"
            ]
          },
          "metadata": {
            "tags": []
          }
        }
      ]
    },
    {
      "cell_type": "markdown",
      "metadata": {
        "id": "I0cSqkfDyqob"
      },
      "source": [
        "No, there is no significant relationship between gender and churner. "
      ]
    },
    {
      "cell_type": "markdown",
      "metadata": {
        "id": "GYi_dZOGyqoc"
      },
      "source": [
        "### Whether gender plays a vital role in credit score?"
      ]
    },
    {
      "cell_type": "code",
      "metadata": {
        "colab": {
          "base_uri": "https://localhost:8080/",
          "height": 279
        },
        "id": "v0p5VSTryqoc",
        "outputId": "f47682dc-6daf-4098-9282-5ed70b71ebad"
      },
      "source": [
        "sns.barplot(x =data['Gender'],y=data['CreditScore'])\n",
        "plt.title(\"\")\n",
        "plt.show()"
      ],
      "execution_count": null,
      "outputs": [
        {
          "output_type": "display_data",
          "data": {
            "image/png": "[encoded data removed]",
            "text/plain": [
              "<Figure size 432x288 with 1 Axes>"
            ]
          },
          "metadata": {
            "tags": [],
            "needs_background": "light"
          }
        }
      ]
    },
    {
      "cell_type": "markdown",
      "metadata": {
        "id": "PBGGX70vyqod"
      },
      "source": [
        "No, credit score is almost same for both genders."
      ]
    },
    {
      "cell_type": "markdown",
      "metadata": {
        "id": "QeAgEW9dyqod"
      },
      "source": [
        "### Which age groups churned out the most?"
      ]
    },
    {
      "cell_type": "code",
      "metadata": {
        "colab": {
          "base_uri": "https://localhost:8080/",
          "height": 351
        },
        "id": "Phq9rso1yqod",
        "outputId": "3ef2d02a-9dee-4ab3-f0ff-e2334e7b33e8"
      },
      "source": [
        "plt.figure(figsize=(10,5))\n",
        "ax = sns.barplot(x=data['Age_group'], y=data['Exited'],estimator=lambda x: len(x) / len(data) * 100,palette='rainbow')\n",
        "ax.set(ylabel=\"Percent\")\n",
        "plt.title(\"RELATIONSHIP BETWEEN AGE GROUPS AND CHURNING\")\n",
        "plt.show()"
      ],
      "execution_count": null,
      "outputs": [
        {
          "output_type": "display_data",
          "data": {
            "image/png": "[encoded data removed]",
            "text/plain": [
              "<Figure size 720x360 with 1 Axes>"
            ]
          },
          "metadata": {
            "tags": [],
            "needs_background": "light"
          }
        }
      ]
    },
    {
      "cell_type": "markdown",
      "metadata": {
        "id": "tzByiW9fyqoe"
      },
      "source": [
        "From above graph we can see that the age group of 31-45 churned out the most followed by age group of 0-30, 46-60 and 60+ repectively. We can therefore conclude that customers aged 60 or above doesn't prefer to churn."
      ]
    },
    {
      "cell_type": "markdown",
      "metadata": {
        "id": "vQUWr1Ovyqof"
      },
      "source": [
        "###  Which tenure group customers churn out the most?"
      ]
    },
    {
      "cell_type": "code",
      "metadata": {
        "colab": {
          "base_uri": "https://localhost:8080/"
        },
        "id": "9GlIl2M0yqof",
        "outputId": "acf70c53-6aaf-4621-e1c8-9b60027e9732"
      },
      "source": [
        "data['Tenure_group'].value_counts()"
      ],
      "execution_count": null,
      "outputs": [
        {
          "output_type": "execute_result",
          "data": {
            "text/plain": [
              "0-2     2496\n",
              "6-8     2052\n",
              "3-4     1998\n",
              "5-6     1980\n",
              "9-10    1474\n",
              "Name: Tenure_group, dtype: int64"
            ]
          },
          "metadata": {
            "tags": []
          },
          "execution_count": 24
        }
      ]
    },
    {
      "cell_type": "code",
      "metadata": {
        "colab": {
          "base_uri": "https://localhost:8080/",
          "height": 351
        },
        "id": "4Rn4xoi0yqog",
        "outputId": "e1f480d9-196c-4fcc-f468-575850730a66"
      },
      "source": [
        "plt.figure(figsize=(10,5))\n",
        "ax = sns.barplot(x=data['Tenure_group'], y=data['Exited'],estimator=lambda x: len(x) / len(data) * 100,palette='Reds_d')\n",
        "ax.set(ylabel=\"Percent\")\n",
        "plt.title(\"RELATIONSHIP BETWEEN TENURE GROUP AND CHURNING\")\n",
        "plt.show()"
      ],
      "execution_count": null,
      "outputs": [
        {
          "output_type": "display_data",
          "data": {
            "image/png": "[encoded data removed]",
            "text/plain": [
              "<Figure size 720x360 with 1 Axes>"
            ]
          },
          "metadata": {
            "tags": [],
            "needs_background": "light"
          }
        }
      ]
    },
    {
      "cell_type": "markdown",
      "metadata": {
        "id": "JkYjyamJyqog"
      },
      "source": [
        "We see that most of the churners are in tenure group of 0-2 years. Customers who are there with the bank for more than 9 years churn out the less."
      ]
    },
    {
      "cell_type": "markdown",
      "metadata": {
        "id": "LZ2zaH9Jyqoh"
      },
      "source": [
        "### Is there any relationship between having credit card and churning?"
      ]
    },
    {
      "cell_type": "code",
      "metadata": {
        "colab": {
          "base_uri": "https://localhost:8080/",
          "height": 350
        },
        "id": "F0BwPRXXyqoh",
        "outputId": "0c46aade-75ea-498a-c83e-d202fdae1658"
      },
      "source": [
        "plt.figure(figsize=(5,5))\n",
        "ax = sns.barplot(x=data['HasCrCard'], y=data['Exited'],estimator=lambda x: len(x) / len(data) * 100)\n",
        "ax.set(ylabel=\"Percent\")\n",
        "plt.title(\"PERCENTAGE OF CREDIT CARD WHO HAS EXITED\")\n",
        "plt.show()"
      ],
      "execution_count": null,
      "outputs": [
        {
          "output_type": "display_data",
          "data": {
            "image/png": "[encoded data removed]",
            "text/plain": [
              "<Figure size 360x360 with 1 Axes>"
            ]
          },
          "metadata": {
            "tags": [],
            "needs_background": "light"
          }
        }
      ]
    },
    {
      "cell_type": "code",
      "metadata": {
        "colab": {
          "base_uri": "https://localhost:8080/",
          "height": 264
        },
        "id": "T8IsO4TFyqoh",
        "outputId": "08c8d78b-3838-4498-880b-86ec5171e5bd"
      },
      "source": [
        "labels = [\"credit card\",\"No credit card\"]\n",
        "values = a['HasCrCard'].value_counts().values\n",
        "fig1, ax1 = plt.subplots()\n",
        "ax1.pie(values, labels=labels, autopct='%1.1f%%',shadow=True,startangle=90)\n",
        "plt.title(\"RATIO OF HAVING CREDIT CARDS AND NOT\")\n",
        "plt.show()"
      ],
      "execution_count": null,
      "outputs": [
        {
          "output_type": "display_data",
          "data": {
            "image/png": "[encoded data removed]",
            "text/plain": [
              "<Figure size 432x288 with 1 Axes>"
            ]
          },
          "metadata": {
            "tags": []
          }
        }
      ]
    },
    {
      "cell_type": "markdown",
      "metadata": {
        "id": "gpLjRlc6yqoi"
      },
      "source": [
        "From our dataset, it is seen that those customers who have credit cards churn out the most with a percentage of 69.9%"
      ]
    },
    {
      "cell_type": "markdown",
      "metadata": {
        "id": "BdgR6fx_yqoj"
      },
      "source": [
        "### Is there any significant relationship between age group and credit score?"
      ]
    },
    {
      "cell_type": "code",
      "metadata": {
        "colab": {
          "base_uri": "https://localhost:8080/",
          "height": 296
        },
        "id": "t1nx8XUIyqoj",
        "outputId": "7b943e17-1641-4081-975d-5f2efff319da"
      },
      "source": [
        "sns.barplot(x =data['Age_group'],y=data['CreditScore'])\n",
        "plt.title(\"RELATIONSHIP BETWEEN AGE GROUP AND CREDIT SCORE\")\n",
        "plt.show()"
      ],
      "execution_count": null,
      "outputs": [
        {
          "output_type": "display_data",
          "data": {
            "image/png": "[encoded data removed]",
            "text/plain": [
              "<Figure size 432x288 with 1 Axes>"
            ]
          },
          "metadata": {
            "tags": [],
            "needs_background": "light"
          }
        }
      ]
    },
    {
      "cell_type": "markdown",
      "metadata": {
        "id": "q2WFLhRiyqok"
      },
      "source": [
        "There is no such relationship between age group and mean credit score. Almost every age group has same mean credit score."
      ]
    },
    {
      "cell_type": "markdown",
      "metadata": {
        "id": "rUz_Lkx-yqok"
      },
      "source": [
        "### Is there any direct relationship between balance and churning?"
      ]
    },
    {
      "cell_type": "code",
      "metadata": {
        "colab": {
          "base_uri": "https://localhost:8080/",
          "height": 295
        },
        "id": "L0vXjGQwyqol",
        "outputId": "3ac7a9bb-a55b-4308-a9c8-0f0306e635cf"
      },
      "source": [
        "sns.barplot(x =data['Exited'],y=data['Balance'])\n",
        "plt.title(\"RELATIONSHIP BETWEEN BALANCE AND CHURNING\")\n",
        "plt.show()"
      ],
      "execution_count": null,
      "outputs": [
        {
          "output_type": "display_data",
          "data": {
            "image/png": "[encoded data removed]",
            "text/plain": [
              "<Figure size 432x288 with 1 Axes>"
            ]
          },
          "metadata": {
            "tags": [],
            "needs_background": "light"
          }
        }
      ]
    },
    {
      "cell_type": "markdown",
      "metadata": {
        "id": "GFWDS9ofyqol"
      },
      "source": [
        "Customers having more balance churns more than those having less balance."
      ]
    },
    {
      "cell_type": "markdown",
      "metadata": {
        "id": "UynDCuixyqol"
      },
      "source": [
        "###  Do active customers churns more than inactive ones?"
      ]
    },
    {
      "cell_type": "code",
      "metadata": {
        "colab": {
          "base_uri": "https://localhost:8080/",
          "height": 295
        },
        "id": "PZirAKZryqom",
        "outputId": "3c22ffd7-e2ee-4585-9c17-1beeba890834"
      },
      "source": [
        "sns.countplot(x='IsActiveMember', hue = 'Exited',data = data)\n",
        "plt.title(\"RELATIONSHIP BETWEEN CUSTOMER ACTIVI\")\n",
        "plt.show()"
      ],
      "execution_count": null,
      "outputs": [
        {
          "output_type": "display_data",
          "data": {
            "image/png": "[encoded data removed]",
            "text/plain": [
              "<Figure size 432x288 with 1 Axes>"
            ]
          },
          "metadata": {
            "tags": [],
            "needs_background": "light"
          }
        }
      ]
    },
    {
      "cell_type": "markdown",
      "metadata": {
        "id": "5rDCinxpyqom"
      },
      "source": [
        "Unsurprisingly the inactive members have a greater churn. Worryingly is that the overall proportion of inactive mebers is quite high suggesting that the bank may need a program implemented to turn this group to active customers as this will definately have a positive impact on the customer churn."
      ]
    },
    {
      "cell_type": "markdown",
      "metadata": {
        "id": "vdVjU_WSyqon"
      },
      "source": [
        "### Correlation between variables. *italicized text*"
      ]
    },
    {
      "cell_type": "code",
      "metadata": {
        "colab": {
          "base_uri": "https://localhost:8080/",
          "height": 612
        },
        "id": "pEd6KQKbyqon",
        "outputId": "6c218083-fb12-4aa0-8af9-c4cd3d531a22"
      },
      "source": [
        "#sns.heatmap(data)\n",
        "f, ax = plt.subplots(figsize= [20,10])\n",
        "sns.heatmap(data.corr(), annot=True, fmt=\".2f\", ax=ax, cmap = \"magma\" )\n",
        "ax.set_title(\"Correlation Matrix\", fontsize=20)\n",
        "plt.show()"
      ],
      "execution_count": null,
      "outputs": [
        {
          "output_type": "display_data",
          "data": {
            "image/png": "[encoded data removed]",
            "text/plain": [
              "<Figure size 1440x720 with 2 Axes>"
            ]
          },
          "metadata": {
            "tags": [],
            "needs_background": "light"
          }
        }
      ]
    },
    {
      "cell_type": "code",
      "metadata": {
        "id": "NDTnbML87yBy"
      },
      "source": [
        ""
      ],
      "execution_count": null,
      "outputs": []
    },
    {
      "cell_type": "code",
      "metadata": {
        "id": "l7wJxtNS9VgZ"
      },
      "source": [
        ""
      ],
      "execution_count": null,
      "outputs": []
    },
    {
      "cell_type": "code",
      "metadata": {
        "colab": {
          "base_uri": "https://localhost:8080/"
        },
        "id": "_pcQXXzC9VkE",
        "outputId": "9b54caf1-aec1-4997-e78c-44a3fdf841cf"
      },
      "source": [
        "# Drop the irrelevant columns  \n",
        "data = data.drop([\"RowNumber\", \"CustomerId\", \"Surname\",'Age','Tenure'], axis = 1)\n",
        "data.shape"
      ],
      "execution_count": null,
      "outputs": [
        {
          "output_type": "execute_result",
          "data": {
            "text/plain": [
              "(10000, 11)"
            ]
          },
          "metadata": {
            "tags": []
          },
          "execution_count": 32
        }
      ]
    },
    {
      "cell_type": "code",
      "metadata": {
        "colab": {
          "base_uri": "https://localhost:8080/"
        },
        "id": "GMGKjeNUWArg",
        "outputId": "c8199fc7-5337-41fc-e29f-55462c3cf970"
      },
      "source": [
        "data.columns"
      ],
      "execution_count": null,
      "outputs": [
        {
          "output_type": "execute_result",
          "data": {
            "text/plain": [
              "Index(['CreditScore', 'Geography', 'Gender', 'Balance', 'NumOfProducts',\n",
              "       'HasCrCard', 'IsActiveMember', 'EstimatedSalary', 'Exited', 'Age_group',\n",
              "       'Tenure_group'],\n",
              "      dtype='object')"
            ]
          },
          "metadata": {
            "tags": []
          },
          "execution_count": 33
        }
      ]
    },
    {
      "cell_type": "code",
      "metadata": {
        "id": "-sSAreslTiWc"
      },
      "source": [
        ""
      ],
      "execution_count": null,
      "outputs": []
    },
    {
      "cell_type": "code",
      "metadata": {
        "id": "NDVdIVFkTiZl"
      },
      "source": [
        ""
      ],
      "execution_count": null,
      "outputs": []
    },
    {
      "cell_type": "code",
      "metadata": {
        "id": "_TwxDzh9Tigj"
      },
      "source": [
        "# feature scaling\n",
        "\n",
        "v=['CreditScore','Balance','EstimatedSalary','NumOfProducts']\n",
        "from numpy import asarray\n",
        "from sklearn.preprocessing import MinMaxScaler\n",
        "# define min max scaler\n",
        "scaler = MinMaxScaler()\n",
        "# transform data\n",
        "data[v] = scaler.fit_transform(data[v])\n"
      ],
      "execution_count": null,
      "outputs": []
    },
    {
      "cell_type": "code",
      "metadata": {
        "colab": {
          "base_uri": "https://localhost:8080/",
          "height": 195
        },
        "id": "CgGsSi7hVm8T",
        "outputId": "79878869-73bf-435e-bd17-1ce61956e3f5"
      },
      "source": [
        "data.head()"
      ],
      "execution_count": null,
      "outputs": [
        {
          "output_type": "execute_result",
          "data": {
            "text/html": [
              "<div>\n",
              "<style scoped>\n",
              "    .dataframe tbody tr th:only-of-type {\n",
              "        vertical-align: middle;\n",
              "    }\n",
              "\n",
              "    .dataframe tbody tr th {\n",
              "        vertical-align: top;\n",
              "    }\n",
              "\n",
              "    .dataframe thead th {\n",
              "        text-align: right;\n",
              "    }\n",
              "</style>\n",
              "<table border=\"1\" class=\"dataframe\">\n",
              "  <thead>\n",
              "    <tr style=\"text-align: right;\">\n",
              "      <th></th>\n",
              "      <th>CreditScore</th>\n",
              "      <th>Geography</th>\n",
              "      <th>Gender</th>\n",
              "      <th>Balance</th>\n",
              "      <th>NumOfProducts</th>\n",
              "      <th>HasCrCard</th>\n",
              "      <th>IsActiveMember</th>\n",
              "      <th>EstimatedSalary</th>\n",
              "      <th>Exited</th>\n",
              "      <th>Age_group</th>\n",
              "      <th>Tenure_group</th>\n",
              "    </tr>\n",
              "  </thead>\n",
              "  <tbody>\n",
              "    <tr>\n",
              "      <th>0</th>\n",
              "      <td>0.538</td>\n",
              "      <td>France</td>\n",
              "      <td>Female</td>\n",
              "      <td>0.304486</td>\n",
              "      <td>0.000000</td>\n",
              "      <td>1</td>\n",
              "      <td>1</td>\n",
              "      <td>0.500155</td>\n",
              "      <td>1</td>\n",
              "      <td>31-45</td>\n",
              "      <td>0-2</td>\n",
              "    </tr>\n",
              "    <tr>\n",
              "      <th>1</th>\n",
              "      <td>0.516</td>\n",
              "      <td>Spain</td>\n",
              "      <td>Female</td>\n",
              "      <td>0.334031</td>\n",
              "      <td>0.000000</td>\n",
              "      <td>0</td>\n",
              "      <td>1</td>\n",
              "      <td>0.562709</td>\n",
              "      <td>0</td>\n",
              "      <td>31-45</td>\n",
              "      <td>0-2</td>\n",
              "    </tr>\n",
              "    <tr>\n",
              "      <th>2</th>\n",
              "      <td>0.304</td>\n",
              "      <td>France</td>\n",
              "      <td>Male</td>\n",
              "      <td>0.636357</td>\n",
              "      <td>0.666667</td>\n",
              "      <td>1</td>\n",
              "      <td>0</td>\n",
              "      <td>0.569654</td>\n",
              "      <td>1</td>\n",
              "      <td>31-45</td>\n",
              "      <td>6-8</td>\n",
              "    </tr>\n",
              "    <tr>\n",
              "      <th>3</th>\n",
              "      <td>0.698</td>\n",
              "      <td>France</td>\n",
              "      <td>Female</td>\n",
              "      <td>0.000000</td>\n",
              "      <td>0.333333</td>\n",
              "      <td>0</td>\n",
              "      <td>0</td>\n",
              "      <td>0.469120</td>\n",
              "      <td>0</td>\n",
              "      <td>31-45</td>\n",
              "      <td>0-2</td>\n",
              "    </tr>\n",
              "    <tr>\n",
              "      <th>4</th>\n",
              "      <td>1.000</td>\n",
              "      <td>Spain</td>\n",
              "      <td>Female</td>\n",
              "      <td>0.500246</td>\n",
              "      <td>0.000000</td>\n",
              "      <td>1</td>\n",
              "      <td>1</td>\n",
              "      <td>0.395400</td>\n",
              "      <td>0</td>\n",
              "      <td>31-45</td>\n",
              "      <td>0-2</td>\n",
              "    </tr>\n",
              "  </tbody>\n",
              "</table>\n",
              "</div>"
            ],
            "text/plain": [
              "   CreditScore Geography  Gender  ...  Exited  Age_group  Tenure_group\n",
              "0        0.538    France  Female  ...       1      31-45           0-2\n",
              "1        0.516     Spain  Female  ...       0      31-45           0-2\n",
              "2        0.304    France    Male  ...       1      31-45           6-8\n",
              "3        0.698    France  Female  ...       0      31-45           0-2\n",
              "4        1.000     Spain  Female  ...       0      31-45           0-2\n",
              "\n",
              "[5 rows x 11 columns]"
            ]
          },
          "metadata": {
            "tags": []
          },
          "execution_count": 35
        }
      ]
    },
    {
      "cell_type": "code",
      "metadata": {
        "colab": {
          "base_uri": "https://localhost:8080/",
          "height": 143
        },
        "id": "WDJQ-JxfWbVN",
        "outputId": "bfcd33a0-4c46-4406-9096-5765cf43a30a"
      },
      "source": [
        "#one hot encoding for categorical features\n",
        "data=pd.get_dummies(data,columns=['Geography','Gender','Age_group','Tenure_group'],drop_first=True)\n",
        "data.head(2)"
      ],
      "execution_count": null,
      "outputs": [
        {
          "output_type": "execute_result",
          "data": {
            "text/html": [
              "<div>\n",
              "<style scoped>\n",
              "    .dataframe tbody tr th:only-of-type {\n",
              "        vertical-align: middle;\n",
              "    }\n",
              "\n",
              "    .dataframe tbody tr th {\n",
              "        vertical-align: top;\n",
              "    }\n",
              "\n",
              "    .dataframe thead th {\n",
              "        text-align: right;\n",
              "    }\n",
              "</style>\n",
              "<table border=\"1\" class=\"dataframe\">\n",
              "  <thead>\n",
              "    <tr style=\"text-align: right;\">\n",
              "      <th></th>\n",
              "      <th>CreditScore</th>\n",
              "      <th>Balance</th>\n",
              "      <th>NumOfProducts</th>\n",
              "      <th>HasCrCard</th>\n",
              "      <th>IsActiveMember</th>\n",
              "      <th>EstimatedSalary</th>\n",
              "      <th>Exited</th>\n",
              "      <th>Geography_Germany</th>\n",
              "      <th>Geography_Spain</th>\n",
              "      <th>Gender_Male</th>\n",
              "      <th>Age_group_31-45</th>\n",
              "      <th>Age_group_46-60</th>\n",
              "      <th>Age_group_60+</th>\n",
              "      <th>Tenure_group_3-4</th>\n",
              "      <th>Tenure_group_5-6</th>\n",
              "      <th>Tenure_group_6-8</th>\n",
              "      <th>Tenure_group_9-10</th>\n",
              "    </tr>\n",
              "  </thead>\n",
              "  <tbody>\n",
              "    <tr>\n",
              "      <th>0</th>\n",
              "      <td>0.538</td>\n",
              "      <td>0.304486</td>\n",
              "      <td>0.0</td>\n",
              "      <td>1</td>\n",
              "      <td>1</td>\n",
              "      <td>0.500155</td>\n",
              "      <td>1</td>\n",
              "      <td>0</td>\n",
              "      <td>0</td>\n",
              "      <td>0</td>\n",
              "      <td>1</td>\n",
              "      <td>0</td>\n",
              "      <td>0</td>\n",
              "      <td>0</td>\n",
              "      <td>0</td>\n",
              "      <td>0</td>\n",
              "      <td>0</td>\n",
              "    </tr>\n",
              "    <tr>\n",
              "      <th>1</th>\n",
              "      <td>0.516</td>\n",
              "      <td>0.334031</td>\n",
              "      <td>0.0</td>\n",
              "      <td>0</td>\n",
              "      <td>1</td>\n",
              "      <td>0.562709</td>\n",
              "      <td>0</td>\n",
              "      <td>0</td>\n",
              "      <td>1</td>\n",
              "      <td>0</td>\n",
              "      <td>1</td>\n",
              "      <td>0</td>\n",
              "      <td>0</td>\n",
              "      <td>0</td>\n",
              "      <td>0</td>\n",
              "      <td>0</td>\n",
              "      <td>0</td>\n",
              "    </tr>\n",
              "  </tbody>\n",
              "</table>\n",
              "</div>"
            ],
            "text/plain": [
              "   CreditScore   Balance  ...  Tenure_group_6-8  Tenure_group_9-10\n",
              "0        0.538  0.304486  ...                 0                  0\n",
              "1        0.516  0.334031  ...                 0                  0\n",
              "\n",
              "[2 rows x 17 columns]"
            ]
          },
          "metadata": {
            "tags": []
          },
          "execution_count": 36
        }
      ]
    },
    {
      "cell_type": "code",
      "metadata": {
        "id": "EB68FLI_gfux"
      },
      "source": [
        ""
      ],
      "execution_count": null,
      "outputs": []
    },
    {
      "cell_type": "code",
      "metadata": {
        "colab": {
          "base_uri": "https://localhost:8080/"
        },
        "id": "xbkLAbtFXjXM",
        "outputId": "7e1b5428-8143-4cff-8629-da73e552ab24"
      },
      "source": [
        "data.dtypes"
      ],
      "execution_count": null,
      "outputs": [
        {
          "output_type": "execute_result",
          "data": {
            "text/plain": [
              "CreditScore          float64\n",
              "Balance              float64\n",
              "NumOfProducts        float64\n",
              "HasCrCard              int64\n",
              "IsActiveMember         int64\n",
              "EstimatedSalary      float64\n",
              "Exited                 int64\n",
              "Geography_Germany      uint8\n",
              "Geography_Spain        uint8\n",
              "Gender_Male            uint8\n",
              "Age_group_31-45        uint8\n",
              "Age_group_46-60        uint8\n",
              "Age_group_60+          uint8\n",
              "Tenure_group_3-4       uint8\n",
              "Tenure_group_5-6       uint8\n",
              "Tenure_group_6-8       uint8\n",
              "Tenure_group_9-10      uint8\n",
              "dtype: object"
            ]
          },
          "metadata": {
            "tags": []
          },
          "execution_count": 37
        }
      ]
    },
    {
      "cell_type": "code",
      "metadata": {
        "id": "cu4aIgpOYady"
      },
      "source": [
        "y=data['Exited']\n",
        "X=data.drop(['Exited'],axis=1)"
      ],
      "execution_count": null,
      "outputs": []
    },
    {
      "cell_type": "code",
      "metadata": {
        "id": "azPxODI0IuLQ",
        "colab": {
          "base_uri": "https://localhost:8080/",
          "height": 296
        },
        "outputId": "3239570e-a700-4567-f5c7-35e70adc797c"
      },
      "source": [
        "# since the data is unbalanced, we have to balance it\n",
        "sns.countplot(x=data['Exited'])\n"
      ],
      "execution_count": null,
      "outputs": [
        {
          "output_type": "execute_result",
          "data": {
            "text/plain": [
              "<matplotlib.axes._subplots.AxesSubplot at 0x7fdd4aeacd30>"
            ]
          },
          "metadata": {
            "tags": []
          },
          "execution_count": 39
        },
        {
          "output_type": "display_data",
          "data": {
            "image/png": "[encoded data removed]",
            "text/plain": [
              "<Figure size 432x288 with 1 Axes>"
            ]
          },
          "metadata": {
            "tags": [],
            "needs_background": "light"
          }
        }
      ]
    },
    {
      "cell_type": "code",
      "metadata": {
        "id": "C-EZEEu17ZDr"
      },
      "source": [
        "# RandomOverSampler to handle imbalanced data\n",
        "from imblearn.over_sampling import RandomOverSampler"
      ],
      "execution_count": null,
      "outputs": []
    },
    {
      "cell_type": "code",
      "metadata": {
        "id": "wCD1PcyhIuQT"
      },
      "source": [
        "over_sampler =  RandomOverSampler(ratio=0.8)  #oversampling technique\n",
        "X_new, y_new = over_sampler.fit_sample(X, y)"
      ],
      "execution_count": null,
      "outputs": []
    },
    {
      "cell_type": "code",
      "metadata": {
        "id": "pcRSluvrI1fY",
        "colab": {
          "base_uri": "https://localhost:8080/"
        },
        "outputId": "094c83a4-c901-440c-96b1-328ac999134c"
      },
      "source": [
        "print('Original dataset shape {}'.format(Counter(y)))\n",
        "print('Resampled dataset shape {}'.format(Counter(y_new)))"
      ],
      "execution_count": null,
      "outputs": [
        {
          "output_type": "stream",
          "text": [
            "Original dataset shape Counter({0: 7962, 1: 2038})\n",
            "Resampled dataset shape Counter({0: 7962, 1: 6369})\n"
          ],
          "name": "stdout"
        }
      ]
    },
    {
      "cell_type": "code",
      "metadata": {
        "id": "PlP7YW9fWuf6"
      },
      "source": [
        "#model building\n",
        "from sklearn.model_selection import cross_val_score"
      ],
      "execution_count": null,
      "outputs": []
    },
    {
      "cell_type": "markdown",
      "metadata": {
        "id": "gR2SmdAG_Nim"
      },
      "source": [
        "### Will be using K-fold cross validation for model selection "
      ]
    },
    {
      "cell_type": "code",
      "metadata": {
        "colab": {
          "base_uri": "https://localhost:8080/"
        },
        "id": "InrOw_6fYhIe",
        "outputId": "c3dba853-2c39-4c53-e605-46eeeaf4a880"
      },
      "source": [
        "\n",
        "# 10-fold cross-validation with Random Forest\n",
        "\n",
        "from sklearn.ensemble import RandomForestClassifier\n",
        "RFC = RandomForestClassifier(n_estimators = 100)\n",
        "print(cross_val_score(RFC, X_new, y_new, cv=10, scoring='f1').mean())    #f1"
      ],
      "execution_count": null,
      "outputs": [
        {
          "output_type": "stream",
          "text": [
            "0.9455471534344596\n"
          ],
          "name": "stdout"
        }
      ]
    },
    {
      "cell_type": "markdown",
      "metadata": {
        "id": "VdECYh4o_pgg"
      },
      "source": [
        "# f1 score for Random Forest classifier is 94.55%"
      ]
    },
    {
      "cell_type": "code",
      "metadata": {
        "id": "kn6ovpWVWiSv"
      },
      "source": [
        ""
      ],
      "execution_count": null,
      "outputs": []
    },
    {
      "cell_type": "code",
      "metadata": {
        "colab": {
          "base_uri": "https://localhost:8080/"
        },
        "id": "tKsj1jGHusxB",
        "outputId": "b7f704be-21e8-4817-ee80-12598a943729"
      },
      "source": [
        "# 10-fold cross-validation with Decision Tree\n",
        "from sklearn.tree import DecisionTreeClassifier\n",
        "DTC = DecisionTreeClassifier()\n",
        "print(cross_val_score(DTC, X_new, y_new, cv=10, scoring='f1').mean())"
      ],
      "execution_count": null,
      "outputs": [
        {
          "output_type": "stream",
          "text": [
            "0.9053536706526231\n"
          ],
          "name": "stdout"
        }
      ]
    },
    {
      "cell_type": "markdown",
      "metadata": {
        "id": "zUm21JoH_zwU"
      },
      "source": [
        "# f1 score for Decision tree classifier is 90.53%"
      ]
    },
    {
      "cell_type": "code",
      "metadata": {
        "id": "Cr_8gPqw_zJ0"
      },
      "source": [
        ""
      ],
      "execution_count": null,
      "outputs": []
    },
    {
      "cell_type": "code",
      "metadata": {
        "id": "FHg-3uLDuWVy",
        "colab": {
          "base_uri": "https://localhost:8080/"
        },
        "outputId": "ce6b3a5c-83e5-4b39-dbe9-0cfdbdee8bca"
      },
      "source": [
        "\n",
        "# 10-fold cross-validation XGBoost\n",
        "from xgboost.sklearn import XGBClassifier\n",
        "XGBC = XGBClassifier(max_depth=3,n_estimator=100,learning_rate=0.5)\n",
        "print(cross_val_score(XGBC, X_new, y_new, cv=10, scoring='f1').mean())"
      ],
      "execution_count": null,
      "outputs": [
        {
          "output_type": "stream",
          "text": [
            "0.7864479081900686\n"
          ],
          "name": "stdout"
        }
      ]
    },
    {
      "cell_type": "markdown",
      "metadata": {
        "id": "L13IQ_mS_9LY"
      },
      "source": [
        "# f1 score for XGBoost classifier is 78.64%"
      ]
    },
    {
      "cell_type": "code",
      "metadata": {
        "id": "4gPzXbVl_7q5"
      },
      "source": [
        ""
      ],
      "execution_count": null,
      "outputs": []
    },
    {
      "cell_type": "code",
      "metadata": {
        "id": "JCgYwsPLvRkD",
        "colab": {
          "base_uri": "https://localhost:8080/"
        },
        "outputId": "5bf82bb0-652d-4f3e-c3fb-19bf4a2f0eca"
      },
      "source": [
        "# 10-fold cross-validation with Adaboost classifier\n",
        "\n",
        "from sklearn.ensemble import AdaBoostClassifier\n",
        "adbc = AdaBoostClassifier(DecisionTreeClassifier(),\n",
        "    n_estimators=200)\n",
        "print(cross_val_score(adbc, X_new, y_new, cv=10, scoring='f1').mean())"
      ],
      "execution_count": null,
      "outputs": [
        {
          "output_type": "stream",
          "text": [
            "0.9055292994584512\n"
          ],
          "name": "stdout"
        }
      ]
    },
    {
      "cell_type": "markdown",
      "metadata": {
        "id": "tsncTKvPAGTP"
      },
      "source": [
        "# f1 score for AdaBoost classifier is 90.55%"
      ]
    },
    {
      "cell_type": "code",
      "metadata": {
        "id": "boyoooNLAFOm"
      },
      "source": [
        ""
      ],
      "execution_count": null,
      "outputs": []
    },
    {
      "cell_type": "code",
      "metadata": {
        "id": "LRlammiBWkQ4",
        "colab": {
          "base_uri": "https://localhost:8080/"
        },
        "outputId": "9f7b890e-d83f-4072-9748-4c8fbb991d10"
      },
      "source": [
        "# 10-fold cross-validation with logistic regression\n",
        "from sklearn.linear_model import LogisticRegression\n",
        "logreg = LogisticRegression()\n",
        "print(cross_val_score(logreg, X_new, y_new, cv=10, scoring='f1').mean())   #f1"
      ],
      "execution_count": null,
      "outputs": [
        {
          "output_type": "stream",
          "text": [
            "0.6450434453703363\n"
          ],
          "name": "stdout"
        }
      ]
    },
    {
      "cell_type": "markdown",
      "metadata": {
        "id": "FaFf7FvRAP0X"
      },
      "source": [
        "# f1 score for Logistic regression classifier is 64.50%"
      ]
    },
    {
      "cell_type": "code",
      "metadata": {
        "id": "HHLeQcacAM0e"
      },
      "source": [
        ""
      ],
      "execution_count": null,
      "outputs": []
    },
    {
      "cell_type": "code",
      "metadata": {
        "id": "HCKmsYahmDiG"
      },
      "source": [
        ""
      ],
      "execution_count": null,
      "outputs": []
    },
    {
      "cell_type": "markdown",
      "metadata": {
        "id": "d9eBUeGNAV6z"
      },
      "source": [
        "### Since we have got best f1 score with Random forest classifer then will be moving ahead with RandomForest classiifer\n",
        "\n",
        "\n",
        "### hyperparameter optimization for random forest classifier/\n"
      ]
    },
    {
      "cell_type": "code",
      "metadata": {
        "id": "yZyFJ9svc3zv"
      },
      "source": [
        "\n",
        "parameter={'bootstrap': [True, False],\n",
        " 'max_depth': [10, 20, 30, 40, 50, 60, 70, 80, 90, 100],\n",
        " 'max_features': ['auto', 'sqrt'],\n",
        " 'min_samples_leaf': [1, 2, 4],\n",
        " 'min_samples_split': [2, 5, 10],\n",
        " 'n_estimators': [200, 400, 600, 800, 1000, 1200, 1400, 1500, 1600]}"
      ],
      "execution_count": null,
      "outputs": []
    },
    {
      "cell_type": "code",
      "metadata": {
        "id": "yt6fuOt5gh-7"
      },
      "source": [
        "from sklearn.model_selection import RandomizedSearchCV"
      ],
      "execution_count": null,
      "outputs": []
    },
    {
      "cell_type": "code",
      "metadata": {
        "id": "wz-fTH_AbVqt",
        "colab": {
          "base_uri": "https://localhost:8080/"
        },
        "outputId": "3dd4ef5f-6c0c-4a5c-87ef-3e98d3628790"
      },
      "source": [
        "RFC = RandomForestClassifier()\n",
        "random_search=RandomizedSearchCV(RFC,param_distributions=parameter,n_iter=5,scoring='f1',n_jobs=-1,cv=5,verbose=3)\n",
        "random_search.fit(X_new,y_new)"
      ],
      "execution_count": null,
      "outputs": [
        {
          "output_type": "stream",
          "text": [
            "Fitting 5 folds for each of 5 candidates, totalling 25 fits\n"
          ],
          "name": "stdout"
        },
        {
          "output_type": "stream",
          "text": [
            "[Parallel(n_jobs=-1)]: Using backend LokyBackend with 2 concurrent workers.\n",
            "[Parallel(n_jobs=-1)]: Done  25 out of  25 | elapsed:  5.4min finished\n"
          ],
          "name": "stderr"
        },
        {
          "output_type": "execute_result",
          "data": {
            "text/plain": [
              "RandomizedSearchCV(cv=5, error_score=nan,\n",
              "                   estimator=RandomForestClassifier(bootstrap=True,\n",
              "                                                    ccp_alpha=0.0,\n",
              "                                                    class_weight=None,\n",
              "                                                    criterion='gini',\n",
              "                                                    max_depth=None,\n",
              "                                                    max_features='auto',\n",
              "                                                    max_leaf_nodes=None,\n",
              "                                                    max_samples=None,\n",
              "                                                    min_impurity_decrease=0.0,\n",
              "                                                    min_impurity_split=None,\n",
              "                                                    min_samples_leaf=1,\n",
              "                                                    min_samples_split=2,\n",
              "                                                    min_weight_fraction_leaf=0.0,\n",
              "                                                    n_estimators=100,\n",
              "                                                    n_jobs...\n",
              "                   iid='deprecated', n_iter=5, n_jobs=-1,\n",
              "                   param_distributions={'bootstrap': [True, False],\n",
              "                                        'max_depth': [10, 20, 30, 40, 50, 60,\n",
              "                                                      70, 80, 90, 100],\n",
              "                                        'max_features': ['auto', 'sqrt'],\n",
              "                                        'min_samples_leaf': [1, 2, 4],\n",
              "                                        'min_samples_split': [2, 5, 10],\n",
              "                                        'n_estimators': [200, 400, 600, 800,\n",
              "                                                         1000, 1200, 1400, 1500,\n",
              "                                                         1600]},\n",
              "                   pre_dispatch='2*n_jobs', random_state=None, refit=True,\n",
              "                   return_train_score=False, scoring='f1', verbose=3)"
            ]
          },
          "metadata": {
            "tags": []
          },
          "execution_count": 52
        }
      ]
    },
    {
      "cell_type": "code",
      "metadata": {
        "id": "JeZ3Yh656iYg",
        "colab": {
          "base_uri": "https://localhost:8080/"
        },
        "outputId": "bcf488f4-44f2-4d7e-e801-ccb3cb6102db"
      },
      "source": [
        "#best parameters\n",
        "random_search.best_estimator_\n"
      ],
      "execution_count": null,
      "outputs": [
        {
          "output_type": "execute_result",
          "data": {
            "text/plain": [
              "RandomForestClassifier(bootstrap=False, ccp_alpha=0.0, class_weight=None,\n",
              "                       criterion='gini', max_depth=90, max_features='sqrt',\n",
              "                       max_leaf_nodes=None, max_samples=None,\n",
              "                       min_impurity_decrease=0.0, min_impurity_split=None,\n",
              "                       min_samples_leaf=1, min_samples_split=5,\n",
              "                       min_weight_fraction_leaf=0.0, n_estimators=1500,\n",
              "                       n_jobs=None, oob_score=False, random_state=None,\n",
              "                       verbose=0, warm_start=False)"
            ]
          },
          "metadata": {
            "tags": []
          },
          "execution_count": 53
        }
      ]
    },
    {
      "cell_type": "code",
      "metadata": {
        "id": "_lnc3W56WLy4",
        "colab": {
          "base_uri": "https://localhost:8080/"
        },
        "outputId": "0d6f0ae3-f06c-4f7a-b840-482b1bfd1922"
      },
      "source": [
        "\n",
        "from sklearn.ensemble import RandomForestClassifier\n",
        "RFC = RandomForestClassifier(bootstrap=False, ccp_alpha=0.0, class_weight=None,\n",
        "                       criterion='gini', max_depth=90, max_features='sqrt',\n",
        "                       max_leaf_nodes=None, max_samples=None,\n",
        "                       min_impurity_decrease=0.0, min_impurity_split=None,\n",
        "                       min_samples_leaf=1, min_samples_split=5,\n",
        "                       min_weight_fraction_leaf=0.0, n_estimators=1500,\n",
        "                       n_jobs=None, oob_score=False, random_state=None,\n",
        "                       verbose=0, warm_start=False)\n",
        "print(cross_val_score(RFC, X_new, y_new, cv=15, scoring='f1').mean())    #f1"
      ],
      "execution_count": null,
      "outputs": [
        {
          "output_type": "stream",
          "text": [
            "0.955617609267321\n"
          ],
          "name": "stdout"
        }
      ]
    },
    {
      "cell_type": "code",
      "metadata": {
        "id": "r5nSfPaEBovD"
      },
      "source": [
        " #After hyperparameter optimization there's not much difference in model performance"
      ],
      "execution_count": null,
      "outputs": []
    },
    {
      "cell_type": "markdown",
      "metadata": {
        "id": "eUg7Mp6PVmFe"
      },
      "source": [
        "Random forerest :- 94.54%\n",
        "\n",
        "After hyperparameter optimization :- 95.56%\n"
      ]
    },
    {
      "cell_type": "code",
      "metadata": {
        "id": "a4eyJw3jVkFb"
      },
      "source": [
        ""
      ],
      "execution_count": null,
      "outputs": []
    },
    {
      "cell_type": "code",
      "metadata": {
        "id": "AmyygXA3i5Ag"
      },
      "source": [
        ""
      ],
      "execution_count": null,
      "outputs": []
    },
    {
      "cell_type": "markdown",
      "metadata": {
        "id": "XX38xxc3RU5x"
      },
      "source": [
        "In this project for performance matrix F1 score has been used instead of accuracy because the dataset is imbalanced and for imbalanced dataset f1 score can be trusted more than accuracy."
      ]
    },
    {
      "cell_type": "code",
      "metadata": {
        "id": "apvxmei9SKMN"
      },
      "source": [
        ""
      ],
      "execution_count": null,
      "outputs": []
    }
  ]
}